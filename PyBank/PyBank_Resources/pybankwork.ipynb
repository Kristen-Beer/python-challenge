{
 "cells": [
  {
   "cell_type": "code",
   "execution_count": null,
   "metadata": {},
   "outputs": [],
   "source": [
    "import csv\n",
    "import os\n",
    "\n",
    "\n",
    "budgetdata_csv: str = r\"C:\\\\Users\\krism\\Documents\\School\\Module3Challenge\\python-challenge\\Starter_Code\\PyBank\\Resources\\\\budget_data.csv\"\n",
    "\n",
    "'open and read the csv'\n",
    "with open(budgetdata_csv) as csv_file:\n",
    "    csv_reader = csv.reader(csv_file, delimiter= \",\")"
   ]
  }
 ],
 "metadata": {
  "language_info": {
   "name": "python"
  },
  "orig_nbformat": 4
 },
 "nbformat": 4,
 "nbformat_minor": 2
}

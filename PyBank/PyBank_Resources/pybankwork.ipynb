{
 "cells": [
  {
   "cell_type": "code",
   "execution_count": 29,
   "metadata": {},
   "outputs": [
    {
     "name": "stdout",
     "output_type": "stream",
     "text": [
      "Header: ['Date', 'Profit/Losses']\n",
      "Total months = 86\n"
     ]
    }
   ],
   "source": [
    "import csv\n",
    "\n",
    "budgetdata_csv = r\"C:\\\\Users\\krism\\Documents\\School\\Module3Challenge\\python-challenge\\Starter_Code\\PyBank\\Resources\\\\budget_data.csv\"\n",
    "\n",
    "# Open and read the csv\n",
    "with open(budgetdata_csv) as csv_file:\n",
    "    csv_reader = csv.reader(csv_file, delimiter=\",\")\n",
    "\n",
    "    # Read the header row first\n",
    "    csv_header = next(csv_reader)\n",
    "    print(f\"Header: {csv_header}\")\n",
    "\n",
    "    # Count months\n",
    "    count = 0\n",
    "    accum = 0\n",
    "    for row in csv_reader:\n",
    "        count += 1\n",
    "        accum\n",
    "    print(\"Total months =\", count)\n",
    "\n",
    "    I added a thing\n"
   ]
  },
  {
   "cell_type": "code",
   "execution_count": null,
   "metadata": {},
   "outputs": [],
   "source": [
    "    #find the sum of the Profit/losses column\n"
   ]
  }
 ],
 "metadata": {
  "kernelspec": {
   "display_name": "base",
   "language": "python",
   "name": "python3"
  },
  "language_info": {
   "codemirror_mode": {
    "name": "ipython",
    "version": 3
   },
   "file_extension": ".py",
   "mimetype": "text/x-python",
   "name": "python",
   "nbconvert_exporter": "python",
   "pygments_lexer": "ipython3",
   "version": "3.10.9"
  },
  "orig_nbformat": 4
 },
 "nbformat": 4,
 "nbformat_minor": 2
}

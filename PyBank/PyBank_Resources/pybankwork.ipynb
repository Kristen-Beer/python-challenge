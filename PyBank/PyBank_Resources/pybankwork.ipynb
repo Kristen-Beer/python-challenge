{
 "cells": [
  {
   "cell_type": "code",
   "execution_count": 1,
   "metadata": {},
   "outputs": [
    {
     "name": "stdout",
     "output_type": "stream",
     "text": [
      "Header: ['Date', 'Profit/Losses']\n",
      "Total months = 86\n"
     ]
    }
   ],
   "source": [
    "import csv\n",
    "\n",
    "budgetdata_csv = r\"C:\\\\Users\\krism\\Documents\\School\\Module3Challenge\\python-challenge\\Starter_Code\\PyBank\\Resources\\\\budget_data.csv\"\n",
    "\n",
    "# Open and read the csv\n",
    "with open(budgetdata_csv) as csv_file:\n",
    "    csv_reader = csv.reader(csv_file, delimiter=\",\")\n",
    "\n",
    "    # Read the header row first\n",
    "    csv_header = next(csv_reader)\n",
    "    print(f\"Header: {csv_header}\")\n",
    "\n",
    "    # Count months\n",
    "    count = 0\n",
    "    \n",
    "    for row in csv_reader:\n",
    "        count += 1\n",
    "\n",
    "    print(\"Total months =\", count)\n",
    "\n",
    "    \n"
   ]
  },
  {
   "cell_type": "code",
   "execution_count": 3,
   "metadata": {},
   "outputs": [
    {
     "name": "stdout",
     "output_type": "stream",
     "text": [
      "Header: ['Date', 'Profit/Losses']\n",
      "Total months = 86\n",
      "Sum of the data in the Profits/Losses column: 22564198\n"
     ]
    }
   ],
   "source": [
    "import csv\n",
    "\n",
    "budgetdata_csv = r\"C:\\\\Users\\krism\\Documents\\School\\Module3Challenge\\python-challenge\\Starter_Code\\PyBank\\Resources\\\\budget_data.csv\"\n",
    "\n",
    "# Open and read the csv\n",
    "with open(budgetdata_csv) as csv_file:\n",
    "    csv_reader = csv.reader(csv_file, delimiter=\",\")\n",
    "\n",
    "    # Read the header row first\n",
    "    csv_header = next(csv_reader)\n",
    "    print(f\"Header: {csv_header}\")\n",
    "\n",
    "    # Count months\n",
    "    count = 0\n",
    "    #variable to store the sum of the second column\n",
    "    total_Profits_losses = 0\n",
    "    \n",
    "    for row in csv_reader:\n",
    "        count += 1\n",
    "\n",
    "        net_total = int(row[1])\n",
    "        total_Profits_losses += net_total\n",
    "\n",
    "    print(\"Total months =\", count)\n",
    "    print(\"Sum of the data in the Profits/Losses column:\", total_Profits_losses)"
   ]
  },
  {
   "cell_type": "code",
   "execution_count": 2,
   "metadata": {},
   "outputs": [
    {
     "ename": "ValueError",
     "evalue": "I/O operation on closed file.",
     "output_type": "error",
     "traceback": [
      "\u001b[1;31m---------------------------------------------------------------------------\u001b[0m",
      "\u001b[1;31mValueError\u001b[0m                                Traceback (most recent call last)",
      "Cell \u001b[1;32mIn[2], line 5\u001b[0m\n\u001b[0;32m      2\u001b[0m total_Profits_losses \u001b[39m=\u001b[39m \u001b[39m0\u001b[39m\n\u001b[0;32m      4\u001b[0m \u001b[39m# calculate total in the second column\u001b[39;00m\n\u001b[1;32m----> 5\u001b[0m \u001b[39mfor\u001b[39;00m row \u001b[39min\u001b[39;00m csv_reader:\n\u001b[0;32m      6\u001b[0m     net_total \u001b[39m=\u001b[39m \u001b[39mint\u001b[39m(row[\u001b[39m1\u001b[39m])\n\u001b[0;32m      7\u001b[0m     total_Profits_losses \u001b[39m+\u001b[39m\u001b[39m=\u001b[39m net_total\n",
      "\u001b[1;31mValueError\u001b[0m: I/O operation on closed file."
     ]
    }
   ],
   "source": [
    "#variable to store the sum of the second column\n",
    "total_Profits_losses = 0\n",
    "\n",
    "# calculate total in the second column\n",
    "for row in csv_reader:\n",
    "    net_total = int(row[1])\n",
    "    total_Profits_losses += net_total\n",
    "\n",
    "print(\"Sum of the data in the Profits/Losses column:\", total_Profits_losses)\n"
   ]
  }
 ],
 "metadata": {
  "kernelspec": {
   "display_name": "base",
   "language": "python",
   "name": "python3"
  },
  "language_info": {
   "codemirror_mode": {
    "name": "ipython",
    "version": 3
   },
   "file_extension": ".py",
   "mimetype": "text/x-python",
   "name": "python",
   "nbconvert_exporter": "python",
   "pygments_lexer": "ipython3",
   "version": "3.10.9"
  },
  "orig_nbformat": 4
 },
 "nbformat": 4,
 "nbformat_minor": 2
}

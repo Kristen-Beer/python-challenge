{
 "cells": [
  {
   "cell_type": "code",
   "execution_count": 1,
   "metadata": {},
   "outputs": [
    {
     "name": "stdout",
     "output_type": "stream",
     "text": [
      "Header: ['Date', 'Profit/Losses']\n",
      "Total months = 86\n"
     ]
    }
   ],
   "source": [
    "#First working version\n",
    "import csv\n",
    "\n",
    "budgetdata_csv = r\"C:\\\\Users\\krism\\Documents\\School\\Module3Challenge\\python-challenge\\Starter_Code\\PyBank\\Resources\\\\budget_data.csv\"\n",
    "\n",
    "# Open and read the csv\n",
    "with open(budgetdata_csv) as csv_file:\n",
    "    csv_reader = csv.reader(csv_file, delimiter=\",\")\n",
    "\n",
    "    # Read the header row first\n",
    "    csv_header = next(csv_reader)\n",
    "    print(f\"Header: {csv_header}\")\n",
    "\n",
    "    # Count months\n",
    "    count = 0\n",
    "    \n",
    "    for row in csv_reader:\n",
    "        count += 1\n",
    "\n",
    "    print(\"Total months =\", count)\n",
    "\n",
    "    \n"
   ]
  },
  {
   "cell_type": "code",
   "execution_count": 4,
   "metadata": {},
   "outputs": [
    {
     "name": "stdout",
     "output_type": "stream",
     "text": [
      "Header: ['Date', 'Profit/Losses']\n",
      "Total months = 86\n",
      "Total: 22564198\n"
     ]
    }
   ],
   "source": [
    "import csv\n",
    "\n",
    "budgetdata_csv = r\"C:\\\\Users\\krism\\Documents\\School\\Module3Challenge\\python-challenge\\Starter_Code\\PyBank\\Resources\\\\budget_data.csv\"\n",
    "\n",
    "# Open and read the csv\n",
    "with open(budgetdata_csv) as csv_file:\n",
    "    csv_reader = csv.reader(csv_file, delimiter=\",\")\n",
    "\n",
    "    # Read the header row first\n",
    "    csv_header = next(csv_reader)\n",
    "    print(f\"Header: {csv_header}\")\n",
    "\n",
    "    # Count months\n",
    "    count = 0\n",
    "    #variable to store the sum of the second column\n",
    "    total_Profits_losses = 0\n",
    "    \n",
    "    for row in csv_reader:\n",
    "        #Total months\n",
    "        count += 1\n",
    "\n",
    "        #Net total\n",
    "        net_total = int(row[1])\n",
    "        total_Profits_losses += net_total\n",
    "\n",
    "    print(\"Total months =\", count)\n",
    "    print(\"Total:\", total_Profits_losses)"
   ]
  },
  {
   "cell_type": "code",
   "execution_count": 8,
   "metadata": {},
   "outputs": [
    {
     "name": "stdout",
     "output_type": "stream",
     "text": [
      "Header: ['Date', 'Profit/Losses']\n",
      "Financial Analysis\n",
      "Total months = 86\n",
      "Total: 22564198\n",
      "Average Change: 262374\n",
      "Output has been written to PyBank.txt successfully\n"
     ]
    }
   ],
   "source": [
    "#Find average change in Profits/losses\n",
    "import csv\n",
    "\n",
    "budgetdata_csv = r\"C:\\\\Users\\krism\\Documents\\School\\Module3Challenge\\python-challenge\\Starter_Code\\PyBank\\Resources\\\\budget_data.csv\"\n",
    "\n",
    "# Open and read the csv\n",
    "with open(budgetdata_csv) as csv_file:\n",
    "    csv_reader = csv.reader(csv_file, delimiter=\",\")\n",
    "\n",
    "    # Read the header row first\n",
    "    csv_header = next(csv_reader)\n",
    "    print(f\"Header: {csv_header}\")\n",
    "\n",
    "    # Count months\n",
    "    count = 0\n",
    "    #variable to store the sum of the second column\n",
    "    total_Profits_losses = 0\n",
    "    #Variable to store the average change\n",
    "    average_change = 0\n",
    "    #variable to store the max profits/losses value\n",
    "    greatest_increase = None\n",
    "\n",
    "    \n",
    "    for row in csv_reader:\n",
    "        #Total months\n",
    "        count += 1\n",
    "\n",
    "        #Net total\n",
    "        net_total = int(row[1])\n",
    "        total_Profits_losses += net_total\n",
    "\n",
    "        #Average change is the total / number of months\n",
    "        average_change = int(row[1])\n",
    "        final_average_change = int(total_Profits_losses/count)\n",
    "        \n",
    "    print(\"Financial Analysis\")\n",
    "    print(\"Total months =\", count)\n",
    "    print(\"Total:\", total_Profits_losses)\n",
    "    print(\"Average Change:\", final_average_change)\n",
    "\n",
    "\n",
    "      #Specify the file to write to\n",
    "output_file_path = r'C:\\\\Users\\krism\\Documents\\School\\Module3Challenge\\python-challenge\\PyBank\\\\PyBank.txt'\n",
    "with open(output_file_path, 'w') as file:\n",
    "    file.write(\"Financial Analysis\"+'\\n')\n",
    "    file.write(\"----------------------\"+'\\n')\n",
    "    file.write(\"Total months =\" + str(count) +'\\n')\n",
    "    file.write(\"Total:\" + str(total_Profits_losses) +'\\n')\n",
    "    file.write(\"Total:\"+ str(total_Profits_losses) + '\\n')\n",
    "    file.write(\"Average Change:\"+ str(final_average_change) +'\\n')\n",
    "   \n",
    "\n",
    "    print('Output has been written to PyBank.txt successfully')\n",
    "  "
   ]
  },
  {
   "cell_type": "code",
   "execution_count": 9,
   "metadata": {},
   "outputs": [
    {
     "name": "stdout",
     "output_type": "stream",
     "text": [
      "Header: ['Date', 'Profit/Losses']\n",
      "Total months = 86\n",
      "Total: 22564198\n"
     ]
    },
    {
     "ename": "NameError",
     "evalue": "name 'Date' is not defined",
     "output_type": "error",
     "traceback": [
      "\u001b[1;31m---------------------------------------------------------------------------\u001b[0m",
      "\u001b[1;31mNameError\u001b[0m                                 Traceback (most recent call last)",
      "Cell \u001b[1;32mIn[9], line 40\u001b[0m\n\u001b[0;32m     38\u001b[0m \u001b[39mprint\u001b[39m(\u001b[39m\"\u001b[39m\u001b[39mTotal months =\u001b[39m\u001b[39m\"\u001b[39m, count)\n\u001b[0;32m     39\u001b[0m \u001b[39mprint\u001b[39m(\u001b[39m\"\u001b[39m\u001b[39mTotal:\u001b[39m\u001b[39m\"\u001b[39m, total_Profits_losses)\n\u001b[1;32m---> 40\u001b[0m \u001b[39mprint\u001b[39m(\u001b[39m\"\u001b[39m\u001b[39mAverage Change:\u001b[39m\u001b[39m\"\u001b[39m, Date)\n",
      "\u001b[1;31mNameError\u001b[0m: name 'Date' is not defined"
     ]
    }
   ],
   "source": [
    "import csv\n",
    "\n",
    "budgetdata_csv = r\"C:\\\\Users\\krism\\Documents\\School\\Module3Challenge\\python-challenge\\Starter_Code\\PyBank\\Resources\\\\budget_data.csv\"\n",
    "\n",
    "# Open and read the csv\n",
    "with open(budgetdata_csv) as csv_file:\n",
    "    csv_reader = csv.reader(csv_file, delimiter=\",\")\n",
    "\n",
    "    # Read the header row first\n",
    "    csv_header = next(csv_reader)\n",
    "    print(f\"Header: {csv_header}\")\n",
    "\n",
    "    \n",
    "    # Count months\n",
    "    count = 0\n",
    "    #variable to store the sum of the second column\n",
    "    total_Profits_losses = 0\n",
    "    \n",
    "    for row in csv_reader:\n",
    "        #Total months\n",
    "        count += 1\n",
    "\n",
    "        #Net total\n",
    "        net_total = int(row[1])\n",
    "        total_Profits_losses += net_total\n",
    "    \n",
    "    #create empty lists\n",
    "    date = []\n",
    "    profit_losses = []\n",
    "\n",
    "\n",
    "\n",
    "\n",
    "    print(\"Total months =\", count)\n",
    "    print(\"Total:\", total_Profits_losses)\n"
   ]
  },
  {
   "cell_type": "code",
   "execution_count": 3,
   "metadata": {},
   "outputs": [
    {
     "ename": "SyntaxError",
     "evalue": "invalid syntax (3047785574.py, line 21)",
     "output_type": "error",
     "traceback": [
      "\u001b[1;36m  Cell \u001b[1;32mIn[3], line 21\u001b[1;36m\u001b[0m\n\u001b[1;33m    print(\"Greatest increase:\", max_check(x:1))\u001b[0m\n\u001b[1;37m                                           ^\u001b[0m\n\u001b[1;31mSyntaxError\u001b[0m\u001b[1;31m:\u001b[0m invalid syntax\n"
     ]
    }
   ],
   "source": [
    "import csv\n",
    "\n",
    "budgetdata_csv = r\"C:\\\\Users\\krism\\Documents\\School\\Module3Challenge\\python-challenge\\Starter_Code\\PyBank\\Resources\\\\budget_data.csv\"\n",
    "\n",
    "# Open and read the csv\n",
    "with open(budgetdata_csv) as csv_file:\n",
    "    csv_reader = csv.reader(csv_file, delimiter=\",\")\n",
    "\n",
    "    # Read the header row first\n",
    "    csv_header = next(csv_reader)\n",
    "    print(f\"Header: {csv_header}\")\n",
    "\n",
    "for row in csv_reader:\n",
    "    def find_min_max_second_column(data):\n",
    "        if all(isinstance(row, list) and len(row) >= 2 for row in data:\n",
    "               "
   ]
  }
 ],
 "metadata": {
  "kernelspec": {
   "display_name": "base",
   "language": "python",
   "name": "python3"
  },
  "language_info": {
   "codemirror_mode": {
    "name": "ipython",
    "version": 3
   },
   "file_extension": ".py",
   "mimetype": "text/x-python",
   "name": "python",
   "nbconvert_exporter": "python",
   "pygments_lexer": "ipython3",
   "version": "3.10.9"
  },
  "orig_nbformat": 4
 },
 "nbformat": 4,
 "nbformat_minor": 2
}

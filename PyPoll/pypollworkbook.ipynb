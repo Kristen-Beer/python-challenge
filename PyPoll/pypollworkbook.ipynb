{
 "cells": [
  {
   "cell_type": "code",
   "execution_count": 6,
   "metadata": {},
   "outputs": [
    {
     "name": "stdout",
     "output_type": "stream",
     "text": [
      "Header: ['Ballot ID', 'County', 'Candidate']\n",
      "Election Results\n",
      "Total Votes:  369711\n"
     ]
    }
   ],
   "source": [
    "import csv\n",
    "#File path for csv:\n",
    "election_data_csv = r'C:\\\\Users\\krism\\Documents\\School\\Module3Challenge\\python-challenge\\Starter_Code\\PyPoll\\Resources\\\\election_data.csv'\n",
    "\n",
    "#Open and read the csv\n",
    "with open(election_data_csv) as csv_file:\n",
    "    csv_reader = csv.reader(csv_file, delimiter=\",\")\n",
    "\n",
    "    #Skip the header row\n",
    "    csv_header = next(csv_reader)\n",
    "    print(f\"Header: {csv_header}\")\n",
    "\n",
    "    #Total number of votes cast\n",
    "    count = 0\n",
    "    #List all candidates names who received votes\n",
    "    candidate_list = [] \n",
    "    candidate_votes = {}\n",
    "    #Percentage of votes each candidate won\n",
    "    percentage_of_votes = []\n",
    "    #Total votes each candidate won\n",
    "    votes_per_candidate = []\n",
    "    #Winner based on popular vote\n",
    "    winner_ = \"\"\n",
    "    winning_count = 0\n",
    "\n",
    "\n",
    "    #convert csv to dictionaries\n",
    "    with open(election_data_csv) as election_data:\n",
    "        reader = csv.DictReader(election_data)\n",
    "\n",
    "\n",
    "\n",
    "    for row in reader:\n",
    "        #Total votes\n",
    "        count = count + 1\n",
    "\n",
    "        #Grab each name\n",
    "        candidate_name = row[\"Candidate\"]\n",
    "        #Add the name if it isn't in the list\n",
    "        if candidate_name not in candidate_list:\n",
    "            candidate_list.append(candidate_name)\n",
    "            #Track each candidate's votes\n",
    "            candidate_votes[candidate_name] = 0\n",
    "\n",
    "    #Add to the count of the votes\n",
    "    candidate_votes[candidate_name] = candidate_votes[candidate_name]+1\n",
    "\n",
    "    for candidate in candidate_votes\n",
    "\n",
    "    print(\"Election Results\")\n",
    "    print(f\"Total Votes: \", count)\n",
    "\n",
    "    #Specify the file to write to\n",
    "output_file_path = r'C:\\Users\\krism\\Documents\\School\\Module3Challenge\\python-challenge\\PyPoll\\\\main.py'\n",
    "with open(output_file_path, 'w') as file:\n",
    "    file.write(\"Election Results\"+'\\n')\n",
    "    file.write(\"----------------------------\"+'\\n')\n",
    "    file.write(\"Total Votes =\" + str(count) +'\\n')\n",
    "    file.write(\"-----------------------------\"+'\\n')\n",
    "    #file.write(\"Total:\" + str(total_Profits_losses) +'\\n')\n",
    "    #file.write(\"Total:\"+ str(total_Profits_losses) + '\\n')\n",
    "    #file.write(\"Average Change:\"+ str(final_average_change) +'\\n')\n",
    "   \n",
    "\n",
    "    print('Output has been written to PyBank.txt successfully')\n",
    "\n",
    "\n",
    "\n",
    "\n"
   ]
  },
  {
   "cell_type": "code",
   "execution_count": null,
   "metadata": {},
   "outputs": [],
   "source": []
  }
 ],
 "metadata": {
  "kernelspec": {
   "display_name": "base",
   "language": "python",
   "name": "python3"
  },
  "language_info": {
   "codemirror_mode": {
    "name": "ipython",
    "version": 3
   },
   "file_extension": ".py",
   "mimetype": "text/x-python",
   "name": "python",
   "nbconvert_exporter": "python",
   "pygments_lexer": "ipython3",
   "version": "3.10.9"
  },
  "orig_nbformat": 4
 },
 "nbformat": 4,
 "nbformat_minor": 2
}

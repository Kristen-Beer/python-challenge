{
 "cells": [
  {
   "cell_type": "code",
   "execution_count": 6,
   "metadata": {},
   "outputs": [
    {
     "name": "stdout",
     "output_type": "stream",
     "text": [
      "Header: ['Ballot ID', 'County', 'Candidate']\n",
      "Election Results\n",
      "Total Votes:  369711\n"
     ]
    }
   ],
   "source": [
    "import csv\n",
    "#File path for csv:\n",
    "election_data_csv = r'C:\\\\Users\\krism\\Documents\\School\\Module3Challenge\\python-challenge\\Starter_Code\\PyPoll\\Resources\\\\election_data.csv'\n",
    "\n",
    "#Open and read the csv\n",
    "with open(election_data_csv) as csv_file:\n",
    "    csv_reader = csv.reader(csv_file, delimiter=\",\")\n",
    "\n",
    "    #Skip the header row\n",
    "    csv_header = next(csv_reader)\n",
    "    print(f\"Header: {csv_header}\")\n",
    "\n",
    "    #Total number of votes cast\n",
    "    count = 0\n",
    "    #List all candidates names who received votes\n",
    "\n",
    "    #Percentage of votes each candidate won\n",
    "    \n",
    "    #Total votes each candidate won\n",
    " \n",
    "    #Winner based on popular vote\n",
    "\n",
    "    for row in csv_reader:\n",
    "        #Total votes\n",
    "        count += 1\n",
    "\n",
    "    print(\"Election Results\")\n",
    "    print(f\"Total Votes: \", count)\n",
    "\n",
    "\n",
    "\n",
    "\n"
   ]
  }
 ],
 "metadata": {
  "kernelspec": {
   "display_name": "base",
   "language": "python",
   "name": "python3"
  },
  "language_info": {
   "codemirror_mode": {
    "name": "ipython",
    "version": 3
   },
   "file_extension": ".py",
   "mimetype": "text/x-python",
   "name": "python",
   "nbconvert_exporter": "python",
   "pygments_lexer": "ipython3",
   "version": "3.10.9"
  },
  "orig_nbformat": 4
 },
 "nbformat": 4,
 "nbformat_minor": 2
}
